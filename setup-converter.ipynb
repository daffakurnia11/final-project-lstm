{
 "cells": [
  {
   "cell_type": "code",
   "execution_count": 4,
   "metadata": {},
   "outputs": [
    {
     "data": {
      "text/plain": [
       "'combined_data_reshaped.xlsx'"
      ]
     },
     "execution_count": 4,
     "metadata": {},
     "output_type": "execute_result"
    }
   ],
   "source": [
    "import pandas as pd\n",
    "import json\n",
    "\n",
    "# Load the JSON files\n",
    "with open('dataset/setup/train.json') as f:\n",
    "    train_data = json.load(f)\n",
    "\n",
    "with open('dataset/setup/val.json') as f:\n",
    "    val_data = json.load(f)\n",
    "\n",
    "with open('dataset/setup/test.json') as f:\n",
    "    test_data = json.load(f)\n",
    "\n",
    "# Function to reshape data into the desired format\n",
    "def reshape_data(data):\n",
    "    reshaped = []\n",
    "    for entry in data:\n",
    "        date = entry['date']\n",
    "        sensors_data = {f\"Sensor 1 count\": None, f\"Sensor 1 interval\": None, f\"Sensor 1 kWh\": None,\n",
    "                        f\"Sensor 2 count\": None, f\"Sensor 2 interval\": None, f\"Sensor 2 kWh\": None,\n",
    "                        f\"Sensor 3 count\": None, f\"Sensor 3 interval\": None, f\"Sensor 3 kWh\": None}\n",
    "        for result in entry['result']:\n",
    "            sensor_name = result['name']\n",
    "            if sensor_name == \"Sensor 1\":\n",
    "                sensors_data[f\"Sensor 1 count\"] = result['count']\n",
    "                sensors_data[f\"Sensor 1 interval\"] = result['interval']\n",
    "                sensors_data[f\"Sensor 1 kWh\"] = result['kWh']\n",
    "            elif sensor_name == \"Sensor 2\":\n",
    "                sensors_data[f\"Sensor 2 count\"] = result['count']\n",
    "                sensors_data[f\"Sensor 2 interval\"] = result['interval']\n",
    "                sensors_data[f\"Sensor 2 kWh\"] = result['kWh']\n",
    "            elif sensor_name == \"Sensor 3\":\n",
    "                sensors_data[f\"Sensor 3 count\"] = result['count']\n",
    "                sensors_data[f\"Sensor 3 interval\"] = result['interval']\n",
    "                sensors_data[f\"Sensor 3 kWh\"] = result['kWh']\n",
    "        reshaped.append({\"date\": date, **sensors_data})\n",
    "    return reshaped\n",
    "\n",
    "# Reshape each dataset\n",
    "train_reshaped = reshape_data(train_data)\n",
    "val_reshaped = reshape_data(val_data)\n",
    "test_reshaped = reshape_data(test_data)\n",
    "\n",
    "# Convert lists to DataFrames\n",
    "train_df = pd.DataFrame(train_reshaped)\n",
    "val_df = pd.DataFrame(val_reshaped)\n",
    "test_df = pd.DataFrame(test_reshaped)\n",
    "\n",
    "# Combine all DataFrames\n",
    "combined_df = pd.concat([train_df, val_df, test_df], ignore_index=True)\n",
    "\n",
    "# Write to Excel\n",
    "combined_df.to_excel('combined_data_reshaped.xlsx', index=False)\n",
    "\n",
    "# Display the output file path\n",
    "'combined_data_reshaped.xlsx'\n"
   ]
  }
 ],
 "metadata": {
  "kernelspec": {
   "display_name": ".venv",
   "language": "python",
   "name": "python3"
  },
  "language_info": {
   "codemirror_mode": {
    "name": "ipython",
    "version": 3
   },
   "file_extension": ".py",
   "mimetype": "text/x-python",
   "name": "python",
   "nbconvert_exporter": "python",
   "pygments_lexer": "ipython3",
   "version": "3.11.9"
  }
 },
 "nbformat": 4,
 "nbformat_minor": 2
}
