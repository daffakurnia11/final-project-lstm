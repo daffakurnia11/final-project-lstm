{
 "cells": [
  {
   "cell_type": "markdown",
   "metadata": {},
   "source": [
    "## Import Necessary Libraries\n"
   ]
  },
  {
   "cell_type": "code",
   "execution_count": 1,
   "metadata": {},
   "outputs": [],
   "source": [
    "import pandas as pd\n",
    "import numpy as np\n",
    "from sklearn.preprocessing import MinMaxScaler\n",
    "from sklearn.metrics import mean_squared_error, mean_absolute_error, r2_score\n",
    "import tensorflow as tf"
   ]
  },
  {
   "cell_type": "markdown",
   "metadata": {},
   "source": [
    "## Load Dataset\n"
   ]
  },
  {
   "cell_type": "code",
   "execution_count": 2,
   "metadata": {},
   "outputs": [
    {
     "name": "stdout",
     "output_type": "stream",
     "text": [
      "Dataset Columns Index(['id', 'created_at', 'updated_at', 'deleted_at', 'name', 'voltage',\n",
      "       'current', 'power', 'power_factor', 'frequency', 'energy',\n",
      "       'apparent_power', 'reactive_power'],\n",
      "      dtype='object')\n"
     ]
    }
   ],
   "source": [
    "# Assuming you have a Pandas DataFrame 'df' with your data\n",
    "dataset_file = \"splitted_by_sensor/Dataset_Sensor_1.csv\"\n",
    "\n",
    "dataset = pd.read_csv(dataset_file)\n",
    "\n",
    "print(\"Dataset Columns\", dataset.columns)"
   ]
  },
  {
   "cell_type": "markdown",
   "metadata": {},
   "source": [
    "## Preprocess Data\n"
   ]
  },
  {
   "cell_type": "code",
   "execution_count": 3,
   "metadata": {},
   "outputs": [],
   "source": [
    "# Convert created_at to datetime if necessary\n",
    "dataset[\"created_at\"] = pd.to_datetime(dataset[\"created_at\"], format=\"ISO8601\")\n",
    "\n",
    "# Convert power to kWh\n",
    "dataset[\"power\"] = dataset[\"power\"] / 1000\n",
    "\n",
    "# Extract power data for scaling\n",
    "power_data = dataset[[\"power\"]].values\n",
    "\n",
    "# Normalize the data using MinMaxScaler\n",
    "scaler = MinMaxScaler(feature_range=(0, 1))\n",
    "power_data_scaled = scaler.fit_transform(power_data)"
   ]
  },
  {
   "cell_type": "code",
   "execution_count": 4,
   "metadata": {},
   "outputs": [],
   "source": [
    "dataset[\"time_diff\"] = dataset[\"created_at\"].diff()\n",
    "\n",
    "average_interval = dataset[\"time_diff\"].mean().total_seconds()"
   ]
  },
  {
   "cell_type": "markdown",
   "metadata": {},
   "source": [
    "## Input Sequences and Corresponding Targets\n"
   ]
  },
  {
   "cell_type": "code",
   "execution_count": 5,
   "metadata": {},
   "outputs": [],
   "source": [
    "def create_sequences(data, seq_length):\n",
    "    sequences = []\n",
    "    labels = []\n",
    "    for i in range(len(data) - seq_length):\n",
    "        sequence = data[i : i + seq_length]\n",
    "        label = data[i + seq_length][\n",
    "            0\n",
    "        ]  # Assuming we're predicting 'power', which is the first column\n",
    "        sequences.append(sequence)\n",
    "        labels.append(label)\n",
    "    return np.array(sequences), np.array(labels)"
   ]
  },
  {
   "cell_type": "code",
   "execution_count": 6,
   "metadata": {},
   "outputs": [],
   "source": [
    "SEQ_LENGTH = 24  # Using 24-hour sequence length for daily prediction\n",
    "X, y = create_sequences(power_data_scaled, SEQ_LENGTH)\n",
    "\n",
    "# Reshape X for LSTM: (samples, timesteps, features)\n",
    "X = X.reshape((X.shape[0], X.shape[1], 1))"
   ]
  },
  {
   "cell_type": "markdown",
   "metadata": {},
   "source": [
    "## Split Dataset\n"
   ]
  },
  {
   "cell_type": "code",
   "execution_count": 7,
   "metadata": {},
   "outputs": [
    {
     "name": "stdout",
     "output_type": "stream",
     "text": [
      "Training set size: (1764769, 24, 1), Test set size: (311430, 24, 1)\n"
     ]
    }
   ],
   "source": [
    "train_size = int(0.85 * len(X))\n",
    "train_X, test_X = X[:train_size], X[train_size:]\n",
    "train_y, test_y = y[:train_size], y[train_size:]\n",
    "\n",
    "print(f\"Training set size: {train_X.shape}, Test set size: {test_X.shape}\")"
   ]
  },
  {
   "cell_type": "markdown",
   "metadata": {},
   "source": [
    "## Define LSTM Model\n"
   ]
  },
  {
   "cell_type": "code",
   "execution_count": 8,
   "metadata": {},
   "outputs": [
    {
     "name": "stderr",
     "output_type": "stream",
     "text": [
      "/Users/daffa/Projects/final-project/.venv/lib/python3.12/site-packages/keras/src/layers/rnn/rnn.py:204: UserWarning: Do not pass an `input_shape`/`input_dim` argument to a layer. When using Sequential models, prefer using an `Input(shape)` object as the first layer in the model instead.\n",
      "  super().__init__(**kwargs)\n"
     ]
    }
   ],
   "source": [
    "model = tf.keras.Sequential(\n",
    "    [\n",
    "        tf.keras.layers.LSTM(\n",
    "            64, return_sequences=False, input_shape=(SEQ_LENGTH, 1)\n",
    "        ),  # LSTM with 64 units\n",
    "        tf.keras.layers.Dense(1),  # Output layer for predicting power\n",
    "    ]\n",
    ")"
   ]
  },
  {
   "cell_type": "markdown",
   "metadata": {},
   "source": [
    "## Train Model\n"
   ]
  },
  {
   "cell_type": "code",
   "execution_count": 9,
   "metadata": {},
   "outputs": [
    {
     "name": "stdout",
     "output_type": "stream",
     "text": [
      "Epoch 1/24\n",
      "\u001b[1m22060/22060\u001b[0m \u001b[32m━━━━━━━━━━━━━━━━━━━━\u001b[0m\u001b[37m\u001b[0m \u001b[1m107s\u001b[0m 5ms/step - loss: 0.0028 - val_loss: 0.0022\n",
      "Epoch 2/24\n",
      "\u001b[1m22060/22060\u001b[0m \u001b[32m━━━━━━━━━━━━━━━━━━━━\u001b[0m\u001b[37m\u001b[0m \u001b[1m106s\u001b[0m 5ms/step - loss: 0.0015 - val_loss: 0.0020\n",
      "Epoch 3/24\n",
      "\u001b[1m22060/22060\u001b[0m \u001b[32m━━━━━━━━━━━━━━━━━━━━\u001b[0m\u001b[37m\u001b[0m \u001b[1m108s\u001b[0m 5ms/step - loss: 0.0014 - val_loss: 0.0020\n",
      "Epoch 4/24\n",
      "\u001b[1m22060/22060\u001b[0m \u001b[32m━━━━━━━━━━━━━━━━━━━━\u001b[0m\u001b[37m\u001b[0m \u001b[1m108s\u001b[0m 5ms/step - loss: 0.0014 - val_loss: 0.0020\n",
      "Epoch 5/24\n",
      "\u001b[1m22060/22060\u001b[0m \u001b[32m━━━━━━━━━━━━━━━━━━━━\u001b[0m\u001b[37m\u001b[0m \u001b[1m108s\u001b[0m 5ms/step - loss: 0.0013 - val_loss: 0.0020\n",
      "Epoch 6/24\n",
      "\u001b[1m22060/22060\u001b[0m \u001b[32m━━━━━━━━━━━━━━━━━━━━\u001b[0m\u001b[37m\u001b[0m \u001b[1m111s\u001b[0m 5ms/step - loss: 0.0014 - val_loss: 0.0019\n",
      "Epoch 7/24\n",
      "\u001b[1m22060/22060\u001b[0m \u001b[32m━━━━━━━━━━━━━━━━━━━━\u001b[0m\u001b[37m\u001b[0m \u001b[1m112s\u001b[0m 5ms/step - loss: 0.0014 - val_loss: 0.0019\n",
      "Epoch 8/24\n",
      "\u001b[1m22060/22060\u001b[0m \u001b[32m━━━━━━━━━━━━━━━━━━━━\u001b[0m\u001b[37m\u001b[0m \u001b[1m114s\u001b[0m 5ms/step - loss: 0.0013 - val_loss: 0.0019\n",
      "Epoch 9/24\n",
      "\u001b[1m22060/22060\u001b[0m \u001b[32m━━━━━━━━━━━━━━━━━━━━\u001b[0m\u001b[37m\u001b[0m \u001b[1m110s\u001b[0m 5ms/step - loss: 0.0013 - val_loss: 0.0020\n",
      "Epoch 10/24\n",
      "\u001b[1m22060/22060\u001b[0m \u001b[32m━━━━━━━━━━━━━━━━━━━━\u001b[0m\u001b[37m\u001b[0m \u001b[1m109s\u001b[0m 5ms/step - loss: 0.0013 - val_loss: 0.0019\n",
      "Epoch 11/24\n",
      "\u001b[1m22060/22060\u001b[0m \u001b[32m━━━━━━━━━━━━━━━━━━━━\u001b[0m\u001b[37m\u001b[0m \u001b[1m111s\u001b[0m 5ms/step - loss: 0.0013 - val_loss: 0.0019\n",
      "Epoch 12/24\n",
      "\u001b[1m22060/22060\u001b[0m \u001b[32m━━━━━━━━━━━━━━━━━━━━\u001b[0m\u001b[37m\u001b[0m \u001b[1m113s\u001b[0m 5ms/step - loss: 0.0014 - val_loss: 0.0019\n",
      "Epoch 13/24\n",
      "\u001b[1m22060/22060\u001b[0m \u001b[32m━━━━━━━━━━━━━━━━━━━━\u001b[0m\u001b[37m\u001b[0m \u001b[1m117s\u001b[0m 5ms/step - loss: 0.0013 - val_loss: 0.0019\n",
      "Epoch 14/24\n",
      "\u001b[1m22060/22060\u001b[0m \u001b[32m━━━━━━━━━━━━━━━━━━━━\u001b[0m\u001b[37m\u001b[0m \u001b[1m118s\u001b[0m 5ms/step - loss: 0.0014 - val_loss: 0.0019\n",
      "Epoch 15/24\n",
      "\u001b[1m22060/22060\u001b[0m \u001b[32m━━━━━━━━━━━━━━━━━━━━\u001b[0m\u001b[37m\u001b[0m \u001b[1m116s\u001b[0m 5ms/step - loss: 0.0014 - val_loss: 0.0019\n",
      "Epoch 16/24\n",
      "\u001b[1m22060/22060\u001b[0m \u001b[32m━━━━━━━━━━━━━━━━━━━━\u001b[0m\u001b[37m\u001b[0m \u001b[1m118s\u001b[0m 5ms/step - loss: 0.0013 - val_loss: 0.0019\n",
      "Epoch 17/24\n",
      "\u001b[1m22060/22060\u001b[0m \u001b[32m━━━━━━━━━━━━━━━━━━━━\u001b[0m\u001b[37m\u001b[0m \u001b[1m110s\u001b[0m 5ms/step - loss: 0.0013 - val_loss: 0.0019\n",
      "Epoch 18/24\n",
      "\u001b[1m22060/22060\u001b[0m \u001b[32m━━━━━━━━━━━━━━━━━━━━\u001b[0m\u001b[37m\u001b[0m \u001b[1m109s\u001b[0m 5ms/step - loss: 0.0013 - val_loss: 0.0019\n",
      "Epoch 19/24\n",
      "\u001b[1m22060/22060\u001b[0m \u001b[32m━━━━━━━━━━━━━━━━━━━━\u001b[0m\u001b[37m\u001b[0m \u001b[1m114s\u001b[0m 5ms/step - loss: 0.0013 - val_loss: 0.0019\n",
      "Epoch 20/24\n",
      "\u001b[1m22060/22060\u001b[0m \u001b[32m━━━━━━━━━━━━━━━━━━━━\u001b[0m\u001b[37m\u001b[0m \u001b[1m116s\u001b[0m 5ms/step - loss: 0.0013 - val_loss: 0.0019\n",
      "Epoch 21/24\n",
      "\u001b[1m22060/22060\u001b[0m \u001b[32m━━━━━━━━━━━━━━━━━━━━\u001b[0m\u001b[37m\u001b[0m \u001b[1m111s\u001b[0m 5ms/step - loss: 0.0013 - val_loss: 0.0019\n",
      "Epoch 22/24\n",
      "\u001b[1m22060/22060\u001b[0m \u001b[32m━━━━━━━━━━━━━━━━━━━━\u001b[0m\u001b[37m\u001b[0m \u001b[1m111s\u001b[0m 5ms/step - loss: 0.0013 - val_loss: 0.0019\n",
      "Epoch 23/24\n",
      "\u001b[1m22060/22060\u001b[0m \u001b[32m━━━━━━━━━━━━━━━━━━━━\u001b[0m\u001b[37m\u001b[0m \u001b[1m111s\u001b[0m 5ms/step - loss: 0.0013 - val_loss: 0.0019\n",
      "Epoch 24/24\n",
      "\u001b[1m22060/22060\u001b[0m \u001b[32m━━━━━━━━━━━━━━━━━━━━\u001b[0m\u001b[37m\u001b[0m \u001b[1m113s\u001b[0m 5ms/step - loss: 0.0013 - val_loss: 0.0019\n"
     ]
    }
   ],
   "source": [
    "model.compile(optimizer=\"adam\", loss=\"mean_squared_error\")\n",
    "\n",
    "history = model.fit(train_X, train_y, epochs=24, batch_size=64, validation_split=0.2)"
   ]
  },
  {
   "cell_type": "markdown",
   "metadata": {},
   "source": [
    "## Predict the Test Set\n"
   ]
  },
  {
   "cell_type": "code",
   "execution_count": 10,
   "metadata": {},
   "outputs": [
    {
     "name": "stdout",
     "output_type": "stream",
     "text": [
      "\u001b[1m9733/9733\u001b[0m \u001b[32m━━━━━━━━━━━━━━━━━━━━\u001b[0m\u001b[37m\u001b[0m \u001b[1m9s\u001b[0m 912us/step\n"
     ]
    }
   ],
   "source": [
    "# Predict the power for each timestep\n",
    "predictions = model.predict(test_X)\n",
    "\n",
    "# Inverse transform predictions to original scale (kWh scale)\n",
    "predictions_reshaped = predictions.reshape(-1, 1)\n",
    "predictions_original = scaler.inverse_transform(predictions_reshaped)\n",
    "\n",
    "# Convertn the prediction into kWh\n",
    "interval_in_hours = average_interval / 3600  # Convert 2.83 seconds to hours\n",
    "predictions_kwh = predictions_original * interval_in_hours\n",
    "\n",
    "# Calculate total predicted power for the test set in kWh\n",
    "predicted_power = predictions_kwh.sum()\n",
    "\n",
    "# Cost calculation (assumed cost per kWh is 1500 IDR)\n",
    "cost_per_kwh = 1500\n",
    "predicted_cost = predicted_power * cost_per_kwh"
   ]
  },
  {
   "cell_type": "markdown",
   "metadata": {},
   "source": [
    "## Evaluate Model"
   ]
  },
  {
   "cell_type": "code",
   "execution_count": 11,
   "metadata": {},
   "outputs": [],
   "source": [
    "# Inverse transform test_y to original scale\n",
    "test_y_original = scaler.inverse_transform(test_y.reshape(-1, 1))\n",
    "\n",
    "mse = mean_squared_error(test_y_original, predictions_original)\n",
    "mae = mean_absolute_error(test_y_original, predictions_original)\n",
    "rmse = np.sqrt(mse)\n",
    "r2 = r2_score(test_y_original, predictions_original)"
   ]
  },
  {
   "cell_type": "markdown",
   "metadata": {},
   "source": [
    "## Result"
   ]
  },
  {
   "cell_type": "code",
   "execution_count": 12,
   "metadata": {},
   "outputs": [
    {
     "name": "stdout",
     "output_type": "stream",
     "text": [
      "Predicted power usage: 23.40 kWh\n",
      "Estimated cost: 35097.20 IDR\n",
      "Mean Squared Error (MSE): 0.0007\n",
      "Mean Absolute Error (MAE): 0.0044\n",
      "Root Mean Squared Error (RMSE): 0.0269\n",
      "R² Score: 0.9818\n"
     ]
    }
   ],
   "source": [
    "print(f\"Predicted power usage: {predicted_power:.2f} kWh\")\n",
    "print(f\"Estimated cost: {predicted_cost:.2f} IDR\")\n",
    "\n",
    "print(f\"Mean Squared Error (MSE): {mse:.4f}\")\n",
    "print(f\"Mean Absolute Error (MAE): {mae:.4f}\")\n",
    "print(f\"Root Mean Squared Error (RMSE): {rmse:.4f}\")\n",
    "print(f\"R² Score: {r2:.4f}\")"
   ]
  }
 ],
 "metadata": {
  "kernelspec": {
   "display_name": ".venv",
   "language": "python",
   "name": "python3"
  },
  "language_info": {
   "codemirror_mode": {
    "name": "ipython",
    "version": 3
   },
   "file_extension": ".py",
   "mimetype": "text/x-python",
   "name": "python",
   "nbconvert_exporter": "python",
   "pygments_lexer": "ipython3",
   "version": "3.12.7"
  }
 },
 "nbformat": 4,
 "nbformat_minor": 2
}
