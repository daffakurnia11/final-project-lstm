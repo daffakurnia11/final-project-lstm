{
 "cells": [
  {
   "cell_type": "markdown",
   "metadata": {},
   "source": [
    "## Import Necessary Libraries\n"
   ]
  },
  {
   "cell_type": "code",
   "execution_count": 1,
   "metadata": {},
   "outputs": [],
   "source": [
    "import pandas as pd\n",
    "import numpy as np\n",
    "from sklearn.preprocessing import MinMaxScaler\n",
    "from sklearn.metrics import mean_squared_error, mean_absolute_error, r2_score\n",
    "import tensorflow as tf\n",
    "import matplotlib.pyplot as plt\n",
    "import seaborn as sns"
   ]
  },
  {
   "cell_type": "markdown",
   "metadata": {},
   "source": [
    "## Load Dataset\n"
   ]
  },
  {
   "cell_type": "code",
   "execution_count": null,
   "metadata": {},
   "outputs": [],
   "source": [
    "train_file = \"dataset/train_dataset.csv\"\n",
    "test_file = \"dataset/test_dataset.csv\"\n",
    "actual_file = \"dataset/actual_dataset.csv\"\n",
    "\n",
    "train_dataset = pd.read_csv(train_file)\n",
    "test_dataset = pd.read_csv(test_file)\n",
    "actual_dataset = pd.read_csv(actual_file)\n",
    "\n",
    "print(\"Train Dataset Columns\", train_dataset.columns)\n",
    "print(\"Test Dataset Columns\", test_dataset.columns)\n",
    "print(\"Actual Dataset Columns\", actual_dataset.columns)"
   ]
  },
  {
   "cell_type": "markdown",
   "metadata": {},
   "source": [
    "## Preprocess Data\n"
   ]
  },
  {
   "cell_type": "code",
   "execution_count": 18,
   "metadata": {},
   "outputs": [],
   "source": [
    "def preprocess_data(dataset):\n",
    "    # Convert created_at to datetime if necessary\n",
    "    dataset[\"created_at\"] = pd.to_datetime(dataset[\"created_at\"], format=\"ISO8601\")\n",
    "    dataset[\"power\"] = dataset[\"power\"] / 1000  # Convert power to kWh\n",
    "    return dataset"
   ]
  },
  {
   "cell_type": "code",
   "execution_count": 19,
   "metadata": {},
   "outputs": [],
   "source": [
    "train_dataset = preprocess_data(train_dataset)\n",
    "test_dataset = preprocess_data(test_dataset)\n",
    "actual_dataset = preprocess_data(actual_dataset)\n",
    "\n",
    "train_pivot = train_dataset.pivot(index=\"created_at\", columns=\"name\", values=\"power\").fillna(0)\n",
    "test_pivot = test_dataset.pivot(index=\"created_at\", columns=\"name\", values=\"power\").fillna(0)\n",
    "actual_pivot = actual_dataset.pivot(index=\"created_at\", columns=\"name\", values=\"power\").fillna(0)\n",
    "\n",
    "# Encode 'name' column into numeric classes\n",
    "label_encoder = LabelEncoder()\n",
    "train_dataset[\"sensor_class\"] = label_encoder.fit_transform(train_dataset[\"name\"])\n",
    "\n",
    "# Extract relevant features\n",
    "features = [\"voltage\", \"current\", \"power_factor\"]\n",
    "target = \"sensor_class\"\n",
    "\n",
    "X_train = train_dataset[features].values\n",
    "y_train = train_dataset[target].values\n",
    "\n",
    "X_test = test_dataset[features].values\n",
    "X_actual = actual_dataset[features].values\n",
    "\n",
    "# Normalize the data using MinMaxScaler\n",
    "scaler = MinMaxScaler(feature_range=(0, 1))\n",
    "train_scaled = scaler.fit_transform(train_pivot)\n",
    "test_scaled = scaler.transform(test_pivot)\n",
    "actual_scaled = scaler.transform(actual_pivot)\n",
    "\n",
    "# One-hot encode target labels\n",
    "y_train_encoded = tf.keras.utils.to_categorical(y_train, num_classes=3)"
   ]
  },
  {
   "cell_type": "markdown",
   "metadata": {},
   "source": [
    "## Input Sequences and Corresponding Targets\n"
   ]
  },
  {
   "cell_type": "code",
   "execution_count": 5,
   "metadata": {},
   "outputs": [],
   "source": [
    "def create_sequences(X, y, seq_length):\n",
    "    X_sequences, y_sequences = [], []\n",
    "    for i in range(len(X) - seq_length):\n",
    "        X_sequences.append(X[i : i + seq_length])\n",
    "        y_sequences.append(y[i + seq_length])\n",
    "    return np.array(X_sequences), np.array(y_sequences)"
   ]
  },
  {
   "cell_type": "code",
   "execution_count": 6,
   "metadata": {},
   "outputs": [],
   "source": [
    "SEQ_LENGTH = 24  # Sequence length for 24 hours\n",
    "X_train, y_train = create_sequences(train_scaled, SEQ_LENGTH)\n",
    "X_test, y_test = create_sequences(test_scaled, SEQ_LENGTH)\n",
    "\n",
    "# Reshape input untuk LSTM\n",
    "X_train = X_train.reshape((X_train.shape[0], X_train.shape[1], 3))  # 3 fitur (satu untuk setiap sensor)\n",
    "X_test = X_test.reshape((X_test.shape[0], X_test.shape[1], 3))\n",
    "\n",
    "print(f\"Training set shape: {X_train.shape}, Testing set shape: {X_test.shape}\")"
   ]
  },
  {
   "cell_type": "markdown",
   "metadata": {},
   "source": [
    "## Define LSTM Model\n"
   ]
  },
  {
   "cell_type": "code",
   "execution_count": null,
   "metadata": {},
   "outputs": [],
   "source": [
    "model = tf.keras.Sequential(\n",
    "    [\n",
    "        tf.keras.layers.LSTM(\n",
    "            64, return_sequences=False, input_shape=(SEQ_LENGTH, len(features))\n",
    "        ),\n",
    "        tf.keras.layers.Dropout(0.2),\n",
    "        tf.keras.layers.Dense(\n",
    "            3, activation=\"softmax\"\n",
    "        ),  # 3 classes, using softmax activation\n",
    "    ]\n",
    ")"
   ]
  },
  {
   "cell_type": "markdown",
   "metadata": {},
   "source": [
    "## Train Model\n"
   ]
  },
  {
   "cell_type": "code",
   "execution_count": null,
   "metadata": {},
   "outputs": [],
   "source": [
    "# Compile model\n",
    "model.compile(optimizer=\"adam\", loss=\"categorical_crossentropy\", metrics=[\"accuracy\"])\n",
    "\n",
    "# Train model\n",
    "history = model.fit(\n",
    "    X_train_seq, y_train_seq, epochs=1, batch_size=64, validation_split=0.25\n",
    ")"
   ]
  },
  {
   "cell_type": "markdown",
   "metadata": {},
   "source": [
    "## Predict the Test Set\n"
   ]
  },
  {
   "cell_type": "code",
   "execution_count": null,
   "metadata": {},
   "outputs": [],
   "source": [
    "y_test_pred = model.predict(X_test)\n",
    "\n",
    "# Inverse transform predictions and actual values\n",
    "y_test_pred_rescaled = scaler.inverse_transform(y_test_pred)\n",
    "y_test_rescaled = scaler.inverse_transform(y_test)"
   ]
  },
  {
   "cell_type": "markdown",
   "metadata": {},
   "source": [
    "## Evaluate Model"
   ]
  },
  {
   "cell_type": "code",
   "execution_count": null,
   "metadata": {},
   "outputs": [],
   "source": [
    "mse = mean_squared_error(y_test_rescaled, y_test_pred_rescaled)\n",
    "mae = mean_absolute_error(y_test_rescaled, y_test_pred_rescaled)\n",
    "rmse = np.sqrt(mse)\n",
    "r2 = r2_score(y_test_rescaled, y_test_pred_rescaled)\n",
    "\n",
    "print(f\"Mean Squared Error (MSE): {mse:.4f}\")\n",
    "print(f\"Mean Absolute Error (MAE): {mae:.4f}\")\n",
    "print(f\"Root Mean Squared Error (RMSE): {rmse:.4f}\")\n",
    "print(f\"R² Score: {r2:.4f}\")"
   ]
  },
  {
   "cell_type": "markdown",
   "metadata": {},
   "source": [
    "## Plot Actual vs Predicted Power for Each Sensor"
   ]
  },
  {
   "cell_type": "code",
   "execution_count": null,
   "metadata": {},
   "outputs": [],
   "source": [
    "sensors = train_pivot.columns\n",
    "\n",
    "plt.figure(figsize=(15, 5))\n",
    "for i, sensor in enumerate(sensors):\n",
    "    plt.subplot(1, 3, i + 1)\n",
    "    plt.plot(y_test_rescaled[:, i], label='Actual')\n",
    "    plt.plot(y_test_pred_rescaled[:, i], label='Predicted')\n",
    "    plt.title(f'Sensor: {sensor}')\n",
    "    plt.xlabel('Time Step')\n",
    "    plt.ylabel('Power (kWh)')\n",
    "    plt.legend()\n",
    "\n",
    "plt.tight_layout()\n",
    "plt.show()"
   ]
  },
  {
   "cell_type": "markdown",
   "metadata": {},
   "source": [
    "## Validate with Actual Dataset"
   ]
  },
  {
   "cell_type": "code",
   "execution_count": null,
   "metadata": {},
   "outputs": [],
   "source": [
    "X_actual, _ = create_sequences(actual_scaled, SEQ_LENGTH)\n",
    "X_actual = X_actual.reshape((X_actual.shape[0], X_actual.shape[1], 3))\n",
    "\n",
    "y_actual_pred = model.predict(X_actual)\n",
    "y_actual_pred_rescaled = scaler.inverse_transform(y_actual_pred)\n",
    "\n",
    "# Plot Actual vs Predicted for Actual Dataset\n",
    "plt.figure(figsize=(15, 5))\n",
    "for i, sensor in enumerate(sensors):\n",
    "    plt.subplot(1, 3, i + 1)\n",
    "    plt.plot(actual_pivot.values[:, i], label='Actual')\n",
    "    plt.plot(y_actual_pred_rescaled[:, i], label='Predicted')\n",
    "    plt.title(f'Sensor: {sensor} (Actual vs Predicted)')\n",
    "    plt.xlabel('Time Step')\n",
    "    plt.ylabel('Power (kWh)')\n",
    "    plt.legend()\n",
    "\n",
    "plt.tight_layout()\n",
    "plt.show()"
   ]
  }
 ],
 "metadata": {
  "kernelspec": {
   "display_name": ".venv",
   "language": "python",
   "name": "python3"
  },
  "language_info": {
   "codemirror_mode": {
    "name": "ipython",
    "version": 3
   },
   "file_extension": ".py",
   "mimetype": "text/x-python",
   "name": "python",
   "nbconvert_exporter": "python",
   "pygments_lexer": "ipython3",
   "version": "3.12.7"
  }
 },
 "nbformat": 4,
 "nbformat_minor": 2
}
