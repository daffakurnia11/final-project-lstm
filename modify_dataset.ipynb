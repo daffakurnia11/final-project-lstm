{
 "cells": [
  {
   "cell_type": "code",
   "execution_count": null,
   "metadata": {},
   "outputs": [],
   "source": [
    "import pandas as pd"
   ]
  },
  {
   "cell_type": "code",
   "execution_count": 35,
   "metadata": {},
   "outputs": [
    {
     "name": "stdout",
     "output_type": "stream",
     "text": [
      "Kolom dalam dataset:\n",
      "['id', 'created_at', 'updated_at', 'deleted_at', 'name', 'voltage', 'current', 'power', 'power_factor', 'frequency', 'energy', 'apparent_power', 'reactive_power']\n"
     ]
    }
   ],
   "source": [
    "# Membaca file CSV\n",
    "file_path = 'dataset/new_dataset.csv'\n",
    "df = pd.read_csv(file_path)\n",
    "\n",
    "# Menampilkan nama kolom\n",
    "print(\"Kolom dalam dataset:\")\n",
    "print(df.columns.tolist())"
   ]
  },
  {
   "cell_type": "code",
   "execution_count": 36,
   "metadata": {},
   "outputs": [
    {
     "name": "stdout",
     "output_type": "stream",
     "text": [
      "Jumlah data dengan name = 'Sensor 3': 2548597\n"
     ]
    }
   ],
   "source": [
    "# Memfilter data dengan name = \"Sensor 3\"\n",
    "filtered_data = df[df['name'] == \"Sensor 3\"]\n",
    "\n",
    "# Menghitung jumlah data dengan name = \"Sensor 3\"\n",
    "count_sensor_3 = filtered_data.shape[0]\n",
    "\n",
    "print(f\"Jumlah data dengan name = 'Sensor 3': {count_sensor_3}\")\n"
   ]
  },
  {
   "cell_type": "code",
   "execution_count": 37,
   "metadata": {},
   "outputs": [
    {
     "name": "stdout",
     "output_type": "stream",
     "text": [
      "Jumlah data yang sesuai kriteria: 0\n"
     ]
    }
   ],
   "source": [
    "# Daftar kolom untuk diperiksa\n",
    "columns_to_check = ['power', 'power_factor', 'frequency', 'energy', 'apparent_power', 'reactive_power']\n",
    "\n",
    "# Memfilter data dengan name = \"Sensor 3\" dan semua kolom di columns_to_check bernilai 0\n",
    "filtered_to_manipulate = filtered_data[(filtered_data[columns_to_check] == 0).all(axis=1)]\n",
    "\n",
    "# Menampilkan hasil filter\n",
    "print(f\"Jumlah data yang sesuai kriteria: {filtered_to_manipulate.shape[0]}\")\n"
   ]
  },
  {
   "cell_type": "code",
   "execution_count": 31,
   "metadata": {},
   "outputs": [
    {
     "name": "stdout",
     "output_type": "stream",
     "text": [
      "Rata-rata nilai dari kolom power_factor (tanpa nilai 0): 0.31361004756816796\n",
      "Nilai maksimal dari power_factor (0 < value <= 1): 1.0\n",
      "Nilai minimal dari power_factor (0 < value <= 1): 0.039999999\n",
      "Nilai modus dari power_factor (0 < value < 1): 0.119999997\n"
     ]
    }
   ],
   "source": [
    "# Menghitung rata-rata nilai dari kolom power_factor dengan mengabaikan nilai 0\n",
    "average_power_factor_no_zero = filtered_data[filtered_data['power_factor'] != 0]['power_factor'].mean()\n",
    "\n",
    "print(f\"Rata-rata nilai dari kolom power_factor (tanpa nilai 0): {average_power_factor_no_zero}\")\n",
    "\n",
    "# Filter nilai power_factor agar hanya antara 0 dan 1\n",
    "valid_power_factor = filtered_data[(filtered_data['power_factor'] > 0) & (filtered_data['power_factor'] <= 1)]\n",
    "\n",
    "# Nilai maksimal dari kolom power_factor (valid range)\n",
    "max_power_factor = valid_power_factor['power_factor'].max()\n",
    "\n",
    "# Nilai minimal dari kolom power_factor (valid range)\n",
    "min_power_factor = valid_power_factor['power_factor'].min()\n",
    "\n",
    "# Menghitung modus dari power_factor yang lebih dari 0 dan kurang dari 1\n",
    "power_factor_modus = filtered_data[(filtered_data['power_factor'] > 0) & (filtered_data['power_factor'] < 1)]['power_factor'].mode()[0]\n",
    "\n",
    "print(f\"Nilai maksimal dari power_factor (0 < value <= 1): {max_power_factor}\")\n",
    "print(f\"Nilai minimal dari power_factor (0 < value <= 1): {min_power_factor}\")\n",
    "print(f\"Nilai modus dari power_factor (0 < value < 1): {power_factor_modus}\")"
   ]
  },
  {
   "cell_type": "code",
   "execution_count": 34,
   "metadata": {},
   "outputs": [
    {
     "name": "stdout",
     "output_type": "stream",
     "text": [
      "Dataset yang termanipulasi telah disimpan di: dataset/new_dataset.csv\n"
     ]
    }
   ],
   "source": [
    "import pandas as pd\n",
    "\n",
    "# Membaca dataset\n",
    "file_path = 'dataset/dataset.csv'\n",
    "df = pd.read_csv(file_path)\n",
    "\n",
    "# Menghitung rata-rata power_factor (tanpa nilai 0 dan NaN)\n",
    "power_factor_avg = df[(df['power_factor'] > 0) & (df['power_factor'] <= 1)]['power_factor'].mean()\n",
    "\n",
    "# Kolom yang akan diperiksa\n",
    "columns_to_check = ['power', 'power_factor', 'frequency', 'energy', 'apparent_power', 'reactive_power']\n",
    "\n",
    "# Filter data dengan name=\"Sensor 3\" dan kolom target bernilai 0\n",
    "mask = (df['name'] == \"Sensor 3\") & (df[columns_to_check] == 0).all(axis=1)\n",
    "filtered_data = df[mask]\n",
    "\n",
    "# Mengisi power_factor dengan rata-rata\n",
    "df.loc[mask, 'power_factor'] = power_factor_avg\n",
    "\n",
    "# Mengisi nilai power berdasarkan voltage, current, dan power_factor\n",
    "df.loc[mask, 'power'] = df.loc[mask].apply(\n",
    "    lambda row: row['voltage'] * row['current'] * row['power_factor'],\n",
    "    axis=1\n",
    ")\n",
    "\n",
    "# Menyimpan dataset manipulasi ke file baru\n",
    "output_path = 'dataset/new_dataset.csv'\n",
    "df.to_csv(output_path, index=False)\n",
    "\n",
    "print(f\"Dataset yang termanipulasi telah disimpan di: {output_path}\")\n"
   ]
  }
 ],
 "metadata": {
  "kernelspec": {
   "display_name": ".venv",
   "language": "python",
   "name": "python3"
  },
  "language_info": {
   "codemirror_mode": {
    "name": "ipython",
    "version": 3
   },
   "file_extension": ".py",
   "mimetype": "text/x-python",
   "name": "python",
   "nbconvert_exporter": "python",
   "pygments_lexer": "ipython3",
   "version": "3.11.9"
  }
 },
 "nbformat": 4,
 "nbformat_minor": 2
}
