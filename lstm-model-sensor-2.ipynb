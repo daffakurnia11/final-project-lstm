{
 "cells": [
  {
   "cell_type": "markdown",
   "metadata": {},
   "source": [
    "## Import Necessary Libraries\n"
   ]
  },
  {
   "cell_type": "code",
   "execution_count": 1,
   "metadata": {},
   "outputs": [],
   "source": [
    "import pandas as pd\n",
    "import numpy as np\n",
    "from sklearn.preprocessing import MinMaxScaler\n",
    "from sklearn.metrics import mean_squared_error, mean_absolute_error, r2_score\n",
    "import tensorflow as tf\n",
    "import matplotlib.pyplot as plt\n",
    "import seaborn as sns"
   ]
  },
  {
   "cell_type": "markdown",
   "metadata": {},
   "source": [
    "## Load Dataset\n"
   ]
  },
  {
   "cell_type": "code",
   "execution_count": null,
   "metadata": {},
   "outputs": [],
   "source": [
    "# Assuming you have a Pandas DataFrame 'df' with your data\n",
    "dataset_file = \"splitted_by_sensor/Dataset_Sensor_2.csv\"\n",
    "\n",
    "dataset = pd.read_csv(dataset_file)\n",
    "\n",
    "print(\"Dataset Columns\", dataset.columns)"
   ]
  },
  {
   "cell_type": "markdown",
   "metadata": {},
   "source": [
    "## Preprocess Data\n"
   ]
  },
  {
   "cell_type": "code",
   "execution_count": 3,
   "metadata": {},
   "outputs": [],
   "source": [
    "# Convert created_at to datetime if necessary\n",
    "dataset[\"created_at\"] = pd.to_datetime(dataset[\"created_at\"], format=\"ISO8601\")\n",
    "\n",
    "# Convert power to kWh\n",
    "dataset[\"power\"] = dataset[\"power\"] / 1000\n",
    "\n",
    "# Extract power data for scaling\n",
    "power_data = dataset[[\"power\"]].values\n",
    "\n",
    "# Normalize the data using MinMaxScaler\n",
    "scaler = MinMaxScaler(feature_range=(0, 1))\n",
    "power_data_scaled = scaler.fit_transform(power_data)"
   ]
  },
  {
   "cell_type": "code",
   "execution_count": 4,
   "metadata": {},
   "outputs": [],
   "source": [
    "dataset[\"time_diff\"] = dataset[\"created_at\"].diff()\n",
    "\n",
    "average_interval = dataset[\"time_diff\"].mean().total_seconds()"
   ]
  },
  {
   "cell_type": "markdown",
   "metadata": {},
   "source": [
    "## Input Sequences and Corresponding Targets\n"
   ]
  },
  {
   "cell_type": "code",
   "execution_count": 5,
   "metadata": {},
   "outputs": [],
   "source": [
    "def create_sequences(data, seq_length):\n",
    "    sequences = []\n",
    "    labels = []\n",
    "    for i in range(len(data) - seq_length):\n",
    "        sequence = data[i : i + seq_length]\n",
    "        label = data[i + seq_length][\n",
    "            0\n",
    "        ]  # Assuming we're predicting 'power', which is the first column\n",
    "        sequences.append(sequence)\n",
    "        labels.append(label)\n",
    "    return np.array(sequences), np.array(labels)"
   ]
  },
  {
   "cell_type": "code",
   "execution_count": 6,
   "metadata": {},
   "outputs": [],
   "source": [
    "SEQ_LENGTH = 24  # Using 24-hour sequence length for daily prediction\n",
    "X, y = create_sequences(power_data_scaled, SEQ_LENGTH)\n",
    "\n",
    "# Reshape X for LSTM: (samples, timesteps, features)\n",
    "X = X.reshape((X.shape[0], X.shape[1], 1))"
   ]
  },
  {
   "cell_type": "markdown",
   "metadata": {},
   "source": [
    "## Split Dataset\n"
   ]
  },
  {
   "cell_type": "code",
   "execution_count": null,
   "metadata": {},
   "outputs": [],
   "source": [
    "train_size = int(0.85 * len(X))\n",
    "train_X, test_X = X[:train_size], X[train_size:]\n",
    "train_y, test_y = y[:train_size], y[train_size:]\n",
    "\n",
    "print(f\"Training set size: {train_X.shape}, Test set size: {test_X.shape}\")"
   ]
  },
  {
   "cell_type": "markdown",
   "metadata": {},
   "source": [
    "## Define LSTM Model\n"
   ]
  },
  {
   "cell_type": "code",
   "execution_count": null,
   "metadata": {},
   "outputs": [],
   "source": [
    "model = tf.keras.Sequential(\n",
    "    [\n",
    "        tf.keras.layers.LSTM(\n",
    "            64, return_sequences=False, input_shape=(SEQ_LENGTH, 1)\n",
    "        ),  # LSTM with 64 units\n",
    "        tf.keras.layers.Dropout(0.2),  # Dropout regularization\n",
    "        tf.keras.layers.Dense(1),  # Output layer for predicting power\n",
    "    ]\n",
    ")"
   ]
  },
  {
   "cell_type": "markdown",
   "metadata": {},
   "source": [
    "## Train Model\n"
   ]
  },
  {
   "cell_type": "code",
   "execution_count": null,
   "metadata": {},
   "outputs": [],
   "source": [
    "model.compile(optimizer=\"adam\", loss=\"mean_squared_error\")\n",
    "\n",
    "history = model.fit(train_X, train_y, epochs=32, batch_size=64, validation_split=0.2)"
   ]
  },
  {
   "cell_type": "markdown",
   "metadata": {},
   "source": [
    "## Predict the Test Set\n"
   ]
  },
  {
   "cell_type": "code",
   "execution_count": null,
   "metadata": {},
   "outputs": [],
   "source": [
    "# Predict the power for each timestep\n",
    "predictions = model.predict(test_X)\n",
    "\n",
    "# Inverse transform predictions to original scale (kWh scale)\n",
    "predictions_reshaped = predictions.reshape(-1, 1)\n",
    "predictions_original = scaler.inverse_transform(predictions_reshaped)\n",
    "\n",
    "# Convertn the prediction into kWh\n",
    "interval_in_hours = average_interval / 3600  # Convert 2.83 seconds to hours\n",
    "predictions_kwh = predictions_original * interval_in_hours\n",
    "\n",
    "# Calculate total predicted power for the test set in kWh\n",
    "predicted_power = predictions_kwh.sum()\n",
    "\n",
    "# Cost calculation (assumed cost per kWh is 1500 IDR)\n",
    "cost_per_kwh = 1500\n",
    "predicted_cost = predicted_power * cost_per_kwh"
   ]
  },
  {
   "cell_type": "markdown",
   "metadata": {},
   "source": [
    "## Evaluate Model"
   ]
  },
  {
   "cell_type": "code",
   "execution_count": 11,
   "metadata": {},
   "outputs": [],
   "source": [
    "# Inverse transform test_y to original scale\n",
    "test_y_original = scaler.inverse_transform(test_y.reshape(-1, 1))\n",
    "\n",
    "mse = mean_squared_error(test_y_original, predictions_original)\n",
    "mae = mean_absolute_error(test_y_original, predictions_original)\n",
    "rmse = np.sqrt(mse)\n",
    "r2 = r2_score(test_y_original, predictions_original)"
   ]
  },
  {
   "cell_type": "markdown",
   "metadata": {},
   "source": [
    "## Visualize Prediction in a Plot"
   ]
  },
  {
   "cell_type": "code",
   "execution_count": null,
   "metadata": {},
   "outputs": [],
   "source": [
    "# Plot learning curve\n",
    "plt.figure(figsize=(10, 6))\n",
    "plt.plot(history.history['loss'], label='Training Loss')\n",
    "plt.plot(history.history['val_loss'], label='Validation Loss')\n",
    "plt.title('Training vs Validation Loss')\n",
    "plt.xlabel('Epoch')\n",
    "plt.ylabel('Loss')\n",
    "plt.legend()\n",
    "plt.show()\n"
   ]
  },
  {
   "cell_type": "code",
   "execution_count": null,
   "metadata": {},
   "outputs": [],
   "source": [
    "# Use transparency for the predicted line to better see overlap\n",
    "plt.figure(figsize=(10, 6))\n",
    "plt.plot(test_y_original, label='Actual Power', color='blue', alpha=0.5)\n",
    "plt.plot(predictions_original, label='Predicted Power', color='orange', alpha=0.5)  # Set alpha for transparency\n",
    "plt.title('Actual vs Predicted Power')\n",
    "plt.xlabel('Time Step')\n",
    "plt.ylabel('Power (kWh)')\n",
    "plt.legend()\n",
    "plt.show()"
   ]
  },
  {
   "cell_type": "code",
   "execution_count": null,
   "metadata": {},
   "outputs": [],
   "source": [
    "residuals = test_y_original - predictions_original\n",
    "\n",
    "plt.figure(figsize=(10, 6))\n",
    "sns.histplot(residuals, kde=True)\n",
    "plt.title('Residuals Distribution')\n",
    "plt.xlabel('Error (kWh)')\n",
    "plt.show()"
   ]
  },
  {
   "cell_type": "markdown",
   "metadata": {},
   "source": [
    "## Result"
   ]
  },
  {
   "cell_type": "code",
   "execution_count": null,
   "metadata": {},
   "outputs": [],
   "source": [
    "print(f\"Predicted power usage: {predicted_power:.2f} kWh\")\n",
    "print(f\"Estimated cost: {predicted_cost:.2f} IDR\")\n",
    "\n",
    "print(f\"Mean Squared Error (MSE): {mse:.4f}\")\n",
    "print(f\"Mean Absolute Error (MAE): {mae:.4f}\")\n",
    "print(f\"Root Mean Squared Error (RMSE): {rmse:.4f}\")\n",
    "print(f\"R² Score: {r2:.4f}\")"
   ]
  }
 ],
 "metadata": {
  "kernelspec": {
   "display_name": ".venv",
   "language": "python",
   "name": "python3"
  },
  "language_info": {
   "codemirror_mode": {
    "name": "ipython",
    "version": 3
   },
   "file_extension": ".py",
   "mimetype": "text/x-python",
   "name": "python",
   "nbconvert_exporter": "python",
   "pygments_lexer": "ipython3",
   "version": "3.12.7"
  }
 },
 "nbformat": 4,
 "nbformat_minor": 2
}
