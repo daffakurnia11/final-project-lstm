{
 "cells": [
  {
   "cell_type": "code",
   "execution_count": 24,
   "metadata": {},
   "outputs": [],
   "source": [
    "import pandas as pd\n",
    "import json"
   ]
  },
  {
   "cell_type": "code",
   "execution_count": 25,
   "metadata": {},
   "outputs": [],
   "source": [
    "data = pd.read_csv('dataset/dataset.csv')\n",
    "\n",
    "data['created_at'] = pd.to_datetime(data['created_at'], format='ISO8601', utc=True)\n",
    "\n",
    "data['date'] = data['created_at'].dt.date\n",
    "\n",
    "daily_counts = data.groupby('date').size().reset_index(name='count')\n",
    "\n",
    "daily_counts['date'] = daily_counts['date'].astype(str)\n",
    "\n",
    "result = daily_counts.to_dict(orient='records')\n",
    "\n",
    "with open('dataset/daily_counts.json', 'w') as json_file:\n",
    "    json.dump(result, json_file, indent=4)"
   ]
  },
  {
   "cell_type": "code",
   "execution_count": 26,
   "metadata": {},
   "outputs": [],
   "source": [
    "training_data = data[data['created_at'] < pd.to_datetime('2024-07-19', utc=True)]\n",
    "\n",
    "training_data.to_csv('dataset/train_dataset.csv', index=False)"
   ]
  },
  {
   "cell_type": "code",
   "execution_count": 27,
   "metadata": {},
   "outputs": [],
   "source": [
    "testing_data = data[data['created_at'].dt.date == pd.to_datetime('2024-07-19').date()]\n",
    "\n",
    "testing_data.to_csv('dataset/test_dataset.csv', index=False)"
   ]
  },
  {
   "cell_type": "code",
   "execution_count": 28,
   "metadata": {},
   "outputs": [],
   "source": [
    "actual_data = data[data['created_at'].dt.date == pd.to_datetime('2024-07-20').date()]\n",
    "\n",
    "actual_data.to_csv('dataset/actual_dataset.csv', index=False)"
   ]
  }
 ],
 "metadata": {
  "kernelspec": {
   "display_name": ".venv",
   "language": "python",
   "name": "python3"
  },
  "language_info": {
   "codemirror_mode": {
    "name": "ipython",
    "version": 3
   },
   "file_extension": ".py",
   "mimetype": "text/x-python",
   "name": "python",
   "nbconvert_exporter": "python",
   "pygments_lexer": "ipython3",
   "version": "3.12.7"
  }
 },
 "nbformat": 4,
 "nbformat_minor": 2
}
