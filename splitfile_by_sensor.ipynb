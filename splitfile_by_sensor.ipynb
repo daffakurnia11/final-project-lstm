{
 "cells": [
  {
   "cell_type": "code",
   "execution_count": 6,
   "metadata": {},
   "outputs": [
    {
     "name": "stdout",
     "output_type": "stream",
     "text": [
      "Dataset Columns Index(['id', 'created_at', 'updated_at', 'deleted_at', 'name', 'voltage',\n",
      "       'current', 'power', 'power_factor', 'frequency', 'energy',\n",
      "       'apparent_power', 'reactive_power'],\n",
      "      dtype='object')\n",
      "Average Interval 0 days 00:00:02.826471394\n"
     ]
    }
   ],
   "source": [
    "import pandas as pd\n",
    "import os\n",
    "\n",
    "file_path = 'splitted_by_sensor/Dataset_Sensor_1.csv'\n",
    "output_folder = \"splitted_by_sensor\"\n",
    "\n",
    "if not os.path.exists(output_folder):\n",
    "    os.makedirs(output_folder)\n",
    "\n",
    "dataset_file = pd.read_csv(file_path)\n",
    "\n",
    "print(\"Dataset Columns\", dataset_file.columns)\n",
    "\n",
    "dataset_file['created_at'] = pd.to_datetime(dataset_file['created_at'], format=\"ISO8601\")\n",
    "\n",
    "dataset_file['time_diff'] = dataset_file['created_at'].diff()\n",
    "\n",
    "average_interval = dataset_file['time_diff'].mean()\n",
    "\n",
    "print(\"Average Interval\", average_interval)\n",
    "\n",
    "# for sensor_name in dataset_file['name'].unique():\n",
    "#     sensor_data = dataset_file[dataset_file['name'] == sensor_name]\n",
    "#     output_file = os.path.join(output_folder, f'Dataset_{sensor_name.replace(\" \", \"_\")}.csv')\n",
    "#     sensor_data.to_csv(output_file, index=False)\n",
    "#     print(f'{output_file} created.')\n"
   ]
  }
 ],
 "metadata": {
  "kernelspec": {
   "display_name": ".venv",
   "language": "python",
   "name": "python3"
  },
  "language_info": {
   "codemirror_mode": {
    "name": "ipython",
    "version": 3
   },
   "file_extension": ".py",
   "mimetype": "text/x-python",
   "name": "python",
   "nbconvert_exporter": "python",
   "pygments_lexer": "ipython3",
   "version": "3.12.7"
  }
 },
 "nbformat": 4,
 "nbformat_minor": 2
}
